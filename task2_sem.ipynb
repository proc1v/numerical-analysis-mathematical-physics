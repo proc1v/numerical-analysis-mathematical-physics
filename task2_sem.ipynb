{
 "cells": [
  {
   "cell_type": "code",
   "execution_count": 2,
   "metadata": {},
   "outputs": [],
   "source": [
    "import scipy\n",
    "import numpy as np\n",
    "import matplotlib.pyplot as plt"
   ]
  },
  {
   "cell_type": "code",
   "execution_count": 9,
   "metadata": {},
   "outputs": [],
   "source": [
    "def create_rectangular_mesh(num_x_elements, num_y_elements, x_bounds=(0, 1), y_bounds=(0, 1)):\n",
    "    x_min, x_max = x_bounds\n",
    "    y_min, y_max = y_bounds\n",
    "    num_x = num_x_elements + 1\n",
    "    num_y = num_y_elements + 1\n",
    "   # Generate vertices\n",
    "    x = np.linspace(x_min, x_max, num_x)\n",
    "    y = np.linspace(y_min, y_max, num_y)\n",
    "    vertices = np.array([(xi, yj) for yj in y for xi in x])\n",
    "\n",
    "    # Generate triangles\n",
    "    triangles = []\n",
    "    for j in range(num_y_elements):\n",
    "        for i in range(num_x_elements):\n",
    "            # Define the indices of the vertices for the current quad\n",
    "            v0 = i + j * num_x\n",
    "            v1 = v0 + 1\n",
    "            v2 = v0 + num_x\n",
    "            v3 = v2 + 1\n",
    "\n",
    "            if (i + j == 0) or (i + j == (num_x_elements + num_y_elements) - 2):\n",
    "                triangles.append([v0, v1, v3])\n",
    "                triangles.append([v0, v3, v2])\n",
    "            else:\n",
    "                triangles.append([v0, v1, v2])\n",
    "                triangles.append([v1, v3, v2])\n",
    "\n",
    "    return vertices, np.array(triangles)"
   ]
  },
  {
   "cell_type": "code",
   "execution_count": 3,
   "metadata": {},
   "outputs": [],
   "source": [
    "def dJ( u, v, p1, p2, p3 ):\n",
    "    x1, y1 = p1\n",
    "    x2, y2 = p2\n",
    "    x3, y3 = p3\n",
    "    dxdu = ( (1-v)*x2 + v*x3 - x1 )\n",
    "    dxdv = ( u*x3 - u*x2 )\n",
    "    dydu = ( (1-v)*y2 + v*y3 - y1 )\n",
    "    dydv = ( u*y3 - u*y2 )\n",
    "    return np.abs( dxdu*dydv - dxdv*dydu )"
   ]
  },
  {
   "cell_type": "code",
   "execution_count": 4,
   "metadata": {},
   "outputs": [],
   "source": [
    "def tridblquad( integrand, p1, p2, p3 ):\n",
    "    '''\n",
    "    Perform double quadtrature integration on triangular domain.\n",
    "    Input: function to integrate, points of triangle as tuples.\n",
    "    Output: integral and estimated absolute error as a tuple.\n",
    "    '''\n",
    "    x1, y1 = p1\n",
    "    x2, y2 = p2\n",
    "    x3, y3 = p3\n",
    "    # transformation to the unit square\n",
    "    g = lambda u, v, c1, c2, c3: (1-u)*c1 + u*( (1-v)*c2 + v*c3 )\n",
    "    # transformation for the integrand, \n",
    "    # including the Jacobian scaling factor\n",
    "    def h( u, v ):\n",
    "        x = g( u, v, x1, x2, x3 )\n",
    "        y = g( u, v, y1, y2, y3 )\n",
    "        I = integrand( x, y )\n",
    "        I *= dJ( u, v, p1, p2, p3 )\n",
    "        return I\n",
    "    # perfrom the double integration using quadrature in the transformed space\n",
    "    integral, error = scipy.integrate.dblquad( h, 0, 1, lambda x: 0, lambda x: 1, epsrel=1e-6, epsabs=0 )\n",
    "    return integral, error"
   ]
  },
  {
   "cell_type": "code",
   "execution_count": 7,
   "metadata": {},
   "outputs": [],
   "source": [
    "def integrate_over_mesh(integrand_func, num_x_elements=10, num_y_elements=10, x_bounds=(0, 1), y_bounds=(0, 1)):\n",
    "    # Generate the rectangular mesh\n",
    "    vertices, triangles = create_rectangular_mesh(num_x_elements, num_y_elements, x_bounds, y_bounds)\n",
    "\n",
    "    # Perform integration over each triangle in the mesh\n",
    "    total_integral = 0.0\n",
    "    for triangle_indices in triangles:\n",
    "        # Extract vertices of the current triangle\n",
    "        p1 = vertices[triangle_indices[0]]\n",
    "        p2 = vertices[triangle_indices[1]]\n",
    "        p3 = vertices[triangle_indices[2]]\n",
    "\n",
    "        # Calculate the integral over the current triangle using tridblquad\n",
    "        integral, _ = tridblquad(integrand_func, p1, p2, p3)\n",
    "        \n",
    "        # Add the integral value to the total\n",
    "        total_integral += integral\n",
    "\n",
    "    return total_integral"
   ]
  },
  {
   "cell_type": "code",
   "execution_count": 18,
   "metadata": {},
   "outputs": [
    {
     "name": "stdout",
     "output_type": "stream",
     "text": [
      "1229.0699930087699 1229.0699931862478\n",
      "1.7747788660926744e-07\n"
     ]
    }
   ],
   "source": [
    "func = lambda x, y: np.sqrt(3*x/4) + np.sin(y)**2\n",
    "x_bounds = (0, 20)\n",
    "y_bounds = (0, 20)\n",
    "num_x_elements = 2\n",
    "num_y_elements = 2\n",
    "\n",
    "custom = integrate_over_mesh(func, num_x_elements, num_y_elements, x_bounds, y_bounds)\n",
    "built, _ = scipy.integrate.dblquad(func, x_bounds[0], x_bounds[1], lambda x: y_bounds[0], lambda x: y_bounds[1])\n",
    "print(custom, built)\n",
    "print(np.abs(custom - built))"
   ]
  },
  {
   "cell_type": "code",
   "execution_count": 19,
   "metadata": {},
   "outputs": [],
   "source": [
    "def lebesque_norm(func, num_x_elements=10, num_y_elements=10, x_bounds=(0, 1), y_bounds=(0, 1), triangulation=True):\n",
    "    func_squared = lambda x, y: func(x, y)**2\n",
    "    if triangulation:\n",
    "        integral = integrate_over_mesh(func_squared, num_x_elements, num_y_elements, x_bounds, y_bounds)\n",
    "    else:\n",
    "        integral, _ = scipy.integrate.dblquad(func_squared, x_bounds[0], x_bounds[1], lambda x: y_bounds[0], lambda x: y_bounds[1])\n",
    "    return np.sqrt(integral)\n",
    "\n",
    "def sobolew_norm(func, x_der, y_der, num_x_elements=10, num_y_elements=10, x_bounds=(0, 1), y_bounds=(0, 1), triangulation=True):\n",
    "    final_func = lambda x, y: func(x, y)**2 + x_der(x, y)**2 + y_der(x, y)**2\n",
    "    if triangulation:\n",
    "        integral = integrate_over_mesh(final_func, num_x_elements, num_y_elements, x_bounds, y_bounds)\n",
    "    else:\n",
    "        integral, _ = scipy.integrate.dblquad(final_func, x_bounds[0], x_bounds[1], lambda x: y_bounds[0], lambda x: y_bounds[1])\n",
    "    return np.sqrt(integral)"
   ]
  },
  {
   "cell_type": "code",
   "execution_count": 21,
   "metadata": {},
   "outputs": [
    {
     "name": "stdout",
     "output_type": "stream",
     "text": [
      "Approximated Lebesque norm: 0.33333333333333337\n",
      "Exact Lebesque norm: 0.3333333333333333\n",
      "Error: 5.551115123125783e-17\n",
      "\n",
      "Approximated Sobolew norm: 0.8819171036881972\n",
      "Exact Sobolew norm: 0.8819171036881969\n",
      "Error: 3.3306690738754696e-16\n"
     ]
    }
   ],
   "source": [
    "func = lambda x, y: x*y\n",
    "x_der = lambda x, y: y\n",
    "y_der = lambda x, y: x\n",
    "x_bounds = (0, 1)\n",
    "y_bounds = (0, 1)\n",
    "num_x_elements, num_y_elements = 10, 10\n",
    "\n",
    "lebesque_norm_res = lebesque_norm(func, num_x_elements, num_y_elements, x_bounds, y_bounds)\n",
    "print(f\"Approximated Lebesque norm: {lebesque_norm_res}\")\n",
    "print(f\"Exact Lebesque norm: {1/3}\")\n",
    "print(f\"Error: {np.abs(lebesque_norm_res - np.sqrt(1/9))}\\n\")\n",
    "\n",
    "sobolew_norm_res = sobolew_norm(func, x_der, y_der, num_x_elements, num_y_elements, x_bounds, y_bounds)\n",
    "print(f\"Approximated Sobolew norm: {sobolew_norm_res}\")\n",
    "print(f\"Exact Sobolew norm: {np.sqrt(7)/3}\")\n",
    "print(f\"Error: {np.abs(sobolew_norm_res - np.sqrt(7)/3)}\")"
   ]
  },
  {
   "cell_type": "code",
   "execution_count": null,
   "metadata": {},
   "outputs": [],
   "source": []
  }
 ],
 "metadata": {
  "kernelspec": {
   "display_name": ".venv",
   "language": "python",
   "name": "python3"
  },
  "language_info": {
   "codemirror_mode": {
    "name": "ipython",
    "version": 3
   },
   "file_extension": ".py",
   "mimetype": "text/x-python",
   "name": "python",
   "nbconvert_exporter": "python",
   "pygments_lexer": "ipython3",
   "version": "3.11.0"
  }
 },
 "nbformat": 4,
 "nbformat_minor": 2
}
